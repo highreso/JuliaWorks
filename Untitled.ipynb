{
 "cells": [
  {
   "cell_type": "code",
   "execution_count": 2,
   "metadata": {},
   "outputs": [
    {
     "data": {
      "text/plain": [
       "Newtonian constant of gravitation (G)\n",
       "Value                         = 6.6743e-11 m^3 kg^-1 s^-2\n",
       "Standard uncertainty          = 1.5e-15 m^3 kg^-1 s^-2\n",
       "Relative standard uncertainty = 2.2e-5\n",
       "Reference                     = CODATA 2018"
      ]
     },
     "execution_count": 2,
     "metadata": {},
     "output_type": "execute_result"
    }
   ],
   "source": [
    "using PhysicalConstants.CODATA2018\n",
    "G = NewtonianConstantOfGravitation"
   ]
  }
 ],
 "metadata": {
  "kernelspec": {
   "display_name": "Julia 1.5.2",
   "language": "julia",
   "name": "julia-1.5"
  },
  "language_info": {
   "file_extension": ".jl",
   "mimetype": "application/julia",
   "name": "julia",
   "version": "1.5.2"
  }
 },
 "nbformat": 4,
 "nbformat_minor": 4
}
